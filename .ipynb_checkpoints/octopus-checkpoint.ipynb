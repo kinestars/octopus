{
 "cells": [
  {
   "cell_type": "code",
   "execution_count": 2,
   "id": "caa731a1-ee24-4926-ac11-0bcc7f7c4f10",
   "metadata": {},
   "outputs": [
    {
     "name": "stdout",
     "output_type": "stream",
     "text": [
      "Requirement already satisfied: tensorflow-gpu==2.1.0 in /opt/conda/envs/octopus/lib/python3.7/site-packages (2.1.0)\n",
      "Requirement already satisfied: scipy==1.4.1 in /opt/conda/envs/octopus/lib/python3.7/site-packages (from tensorflow-gpu==2.1.0) (1.4.1)\n",
      "Requirement already satisfied: wrapt>=1.11.1 in /opt/conda/envs/octopus/lib/python3.7/site-packages (from tensorflow-gpu==2.1.0) (1.12.1)\n",
      "Requirement already satisfied: wheel>=0.26 in /opt/conda/envs/octopus/lib/python3.7/site-packages (from tensorflow-gpu==2.1.0) (0.37.0)\n",
      "Requirement already satisfied: keras-preprocessing>=1.1.0 in /opt/conda/envs/octopus/lib/python3.7/site-packages (from tensorflow-gpu==2.1.0) (1.1.2)\n",
      "Requirement already satisfied: absl-py>=0.7.0 in /opt/conda/envs/octopus/lib/python3.7/site-packages (from tensorflow-gpu==2.1.0) (0.13.0)\n",
      "Requirement already satisfied: grpcio>=1.8.6 in /opt/conda/envs/octopus/lib/python3.7/site-packages (from tensorflow-gpu==2.1.0) (1.39.0)\n",
      "Requirement already satisfied: termcolor>=1.1.0 in /opt/conda/envs/octopus/lib/python3.7/site-packages (from tensorflow-gpu==2.1.0) (1.1.0)\n",
      "Requirement already satisfied: gast==0.2.2 in /opt/conda/envs/octopus/lib/python3.7/site-packages (from tensorflow-gpu==2.1.0) (0.2.2)\n",
      "Requirement already satisfied: protobuf>=3.8.0 in /opt/conda/envs/octopus/lib/python3.7/site-packages (from tensorflow-gpu==2.1.0) (3.17.3)\n",
      "Requirement already satisfied: opt-einsum>=2.3.2 in /opt/conda/envs/octopus/lib/python3.7/site-packages (from tensorflow-gpu==2.1.0) (3.3.0)\n",
      "Requirement already satisfied: six>=1.12.0 in /opt/conda/envs/octopus/lib/python3.7/site-packages (from tensorflow-gpu==2.1.0) (1.16.0)\n",
      "Requirement already satisfied: astor>=0.6.0 in /opt/conda/envs/octopus/lib/python3.7/site-packages (from tensorflow-gpu==2.1.0) (0.8.1)\n",
      "Requirement already satisfied: google-pasta>=0.1.6 in /opt/conda/envs/octopus/lib/python3.7/site-packages (from tensorflow-gpu==2.1.0) (0.2.0)\n",
      "Requirement already satisfied: keras-applications>=1.0.8 in /opt/conda/envs/octopus/lib/python3.7/site-packages (from tensorflow-gpu==2.1.0) (1.0.8)\n",
      "Requirement already satisfied: numpy<2.0,>=1.16.0 in /opt/conda/envs/octopus/lib/python3.7/site-packages (from tensorflow-gpu==2.1.0) (1.21.1)\n",
      "Requirement already satisfied: tensorflow-estimator<2.2.0,>=2.1.0rc0 in /opt/conda/envs/octopus/lib/python3.7/site-packages (from tensorflow-gpu==2.1.0) (2.1.0)\n",
      "Requirement already satisfied: tensorboard<2.2.0,>=2.1.0 in /opt/conda/envs/octopus/lib/python3.7/site-packages (from tensorflow-gpu==2.1.0) (2.1.1)\n",
      "Requirement already satisfied: h5py in /opt/conda/envs/octopus/lib/python3.7/site-packages (from keras-applications>=1.0.8->tensorflow-gpu==2.1.0) (3.3.0)\n",
      "Requirement already satisfied: google-auth-oauthlib<0.5,>=0.4.1 in /opt/conda/envs/octopus/lib/python3.7/site-packages (from tensorboard<2.2.0,>=2.1.0->tensorflow-gpu==2.1.0) (0.4.5)\n",
      "Requirement already satisfied: setuptools>=41.0.0 in /opt/conda/envs/octopus/lib/python3.7/site-packages (from tensorboard<2.2.0,>=2.1.0->tensorflow-gpu==2.1.0) (52.0.0.post20210125)\n",
      "Requirement already satisfied: markdown>=2.6.8 in /opt/conda/envs/octopus/lib/python3.7/site-packages (from tensorboard<2.2.0,>=2.1.0->tensorflow-gpu==2.1.0) (3.3.4)\n",
      "Requirement already satisfied: werkzeug>=0.11.15 in /opt/conda/envs/octopus/lib/python3.7/site-packages (from tensorboard<2.2.0,>=2.1.0->tensorflow-gpu==2.1.0) (2.0.1)\n",
      "Requirement already satisfied: requests<3,>=2.21.0 in /opt/conda/envs/octopus/lib/python3.7/site-packages (from tensorboard<2.2.0,>=2.1.0->tensorflow-gpu==2.1.0) (2.26.0)\n",
      "Requirement already satisfied: google-auth<2,>=1.6.3 in /opt/conda/envs/octopus/lib/python3.7/site-packages (from tensorboard<2.2.0,>=2.1.0->tensorflow-gpu==2.1.0) (1.34.0)\n",
      "Requirement already satisfied: pyasn1-modules>=0.2.1 in /opt/conda/envs/octopus/lib/python3.7/site-packages (from google-auth<2,>=1.6.3->tensorboard<2.2.0,>=2.1.0->tensorflow-gpu==2.1.0) (0.2.8)\n",
      "Requirement already satisfied: rsa<5,>=3.1.4 in /opt/conda/envs/octopus/lib/python3.7/site-packages (from google-auth<2,>=1.6.3->tensorboard<2.2.0,>=2.1.0->tensorflow-gpu==2.1.0) (4.7.2)\n",
      "Requirement already satisfied: cachetools<5.0,>=2.0.0 in /opt/conda/envs/octopus/lib/python3.7/site-packages (from google-auth<2,>=1.6.3->tensorboard<2.2.0,>=2.1.0->tensorflow-gpu==2.1.0) (4.2.2)\n",
      "Requirement already satisfied: requests-oauthlib>=0.7.0 in /opt/conda/envs/octopus/lib/python3.7/site-packages (from google-auth-oauthlib<0.5,>=0.4.1->tensorboard<2.2.0,>=2.1.0->tensorflow-gpu==2.1.0) (1.3.0)\n",
      "Requirement already satisfied: importlib-metadata in /opt/conda/envs/octopus/lib/python3.7/site-packages (from markdown>=2.6.8->tensorboard<2.2.0,>=2.1.0->tensorflow-gpu==2.1.0) (4.6.4)\n",
      "Requirement already satisfied: pyasn1<0.5.0,>=0.4.6 in /opt/conda/envs/octopus/lib/python3.7/site-packages (from pyasn1-modules>=0.2.1->google-auth<2,>=1.6.3->tensorboard<2.2.0,>=2.1.0->tensorflow-gpu==2.1.0) (0.4.8)\n",
      "Requirement already satisfied: certifi>=2017.4.17 in /opt/conda/envs/octopus/lib/python3.7/site-packages (from requests<3,>=2.21.0->tensorboard<2.2.0,>=2.1.0->tensorflow-gpu==2.1.0) (2021.5.30)\n",
      "Requirement already satisfied: urllib3<1.27,>=1.21.1 in /opt/conda/envs/octopus/lib/python3.7/site-packages (from requests<3,>=2.21.0->tensorboard<2.2.0,>=2.1.0->tensorflow-gpu==2.1.0) (1.26.6)\n",
      "Requirement already satisfied: charset-normalizer~=2.0.0 in /opt/conda/envs/octopus/lib/python3.7/site-packages (from requests<3,>=2.21.0->tensorboard<2.2.0,>=2.1.0->tensorflow-gpu==2.1.0) (2.0.4)\n",
      "Requirement already satisfied: idna<4,>=2.5 in /opt/conda/envs/octopus/lib/python3.7/site-packages (from requests<3,>=2.21.0->tensorboard<2.2.0,>=2.1.0->tensorflow-gpu==2.1.0) (3.2)\n",
      "Requirement already satisfied: oauthlib>=3.0.0 in /opt/conda/envs/octopus/lib/python3.7/site-packages (from requests-oauthlib>=0.7.0->google-auth-oauthlib<0.5,>=0.4.1->tensorboard<2.2.0,>=2.1.0->tensorflow-gpu==2.1.0) (3.1.1)\n",
      "Requirement already satisfied: cached-property in /opt/conda/envs/octopus/lib/python3.7/site-packages (from h5py->keras-applications>=1.0.8->tensorflow-gpu==2.1.0) (1.5.2)\n",
      "Requirement already satisfied: zipp>=0.5 in /opt/conda/envs/octopus/lib/python3.7/site-packages (from importlib-metadata->markdown>=2.6.8->tensorboard<2.2.0,>=2.1.0->tensorflow-gpu==2.1.0) (3.5.0)\n",
      "Requirement already satisfied: typing-extensions>=3.6.4 in /opt/conda/envs/octopus/lib/python3.7/site-packages (from importlib-metadata->markdown>=2.6.8->tensorboard<2.2.0,>=2.1.0->tensorflow-gpu==2.1.0) (3.10.0.0)\n",
      "Note: you may need to restart the kernel to use updated packages.\n"
     ]
    }
   ],
   "source": [
    "pip install tensorflow-gpu==2.1.0"
   ]
  },
  {
   "cell_type": "code",
   "execution_count": 2,
   "id": "6e11d20a-40b7-4f6a-81c7-d9509f1b38f2",
   "metadata": {},
   "outputs": [
    {
     "name": "stdout",
     "output_type": "stream",
     "text": [
      "Cloning into 'dirt'...\n",
      "remote: Enumerating objects: 233, done.\u001b[K\n",
      "remote: Counting objects: 100% (72/72), done.\u001b[K\n",
      "remote: Compressing objects: 100% (42/42), done.\u001b[K\n",
      "remote: Total 233 (delta 42), reused 57 (delta 30), pack-reused 161\u001b[K\n",
      "Receiving objects: 100% (233/233), 384.12 KiB | 9.37 MiB/s, done.\n",
      "Resolving deltas: 100% (121/121), done.\n"
     ]
    }
   ],
   "source": [
    "!git clone https://github.com/danhnguyen48/dirt.git"
   ]
  },
  {
   "cell_type": "code",
   "execution_count": 3,
   "id": "6bdb9824-e634-4e61-ac6c-9f609bf04e1c",
   "metadata": {},
   "outputs": [
    {
     "name": "stdout",
     "output_type": "stream",
     "text": [
      "Get:1 http://security.ubuntu.com/ubuntu focal-security InRelease [114 kB]\n",
      "Hit:2 http://archive.ubuntu.com/ubuntu focal InRelease                         \n",
      "Get:3 http://archive.ubuntu.com/ubuntu focal-updates InRelease [114 kB]        \n",
      "Ign:4 https://developer.download.nvidia.com/compute/cuda/repos/ubuntu2004/x86_64  InRelease\n",
      "Ign:5 https://developer.download.nvidia.com/compute/machine-learning/repos/ubuntu2004/x86_64  InRelease\n",
      "Hit:6 https://developer.download.nvidia.com/compute/cuda/repos/ubuntu2004/x86_64  Release\n",
      "Hit:7 https://developer.download.nvidia.com/compute/machine-learning/repos/ubuntu2004/x86_64  Release\n",
      "Get:8 http://archive.ubuntu.com/ubuntu focal-backports InRelease [101 kB]\n",
      "Get:9 http://security.ubuntu.com/ubuntu focal-security/universe amd64 Packages [788 kB]\n",
      "Get:11 http://security.ubuntu.com/ubuntu focal-security/restricted amd64 Packages [476 kB]\n",
      "Get:12 http://security.ubuntu.com/ubuntu focal-security/main amd64 Packages [1026 kB]\n",
      "Get:14 http://archive.ubuntu.com/ubuntu focal-updates/main amd64 Packages [1463 kB]\n",
      "Get:15 http://archive.ubuntu.com/ubuntu focal-updates/multiverse amd64 Packages [33.8 kB]\n",
      "Get:16 http://archive.ubuntu.com/ubuntu focal-updates/restricted amd64 Packages [522 kB]\n",
      "Get:17 http://archive.ubuntu.com/ubuntu focal-updates/universe amd64 Packages [1058 kB]\n",
      "Fetched 5695 kB in 2s (2567 kB/s)                          \n",
      "Reading package lists... Done\n"
     ]
    }
   ],
   "source": [
    "!apt-get update"
   ]
  },
  {
   "cell_type": "code",
   "execution_count": 11,
   "id": "1dde31da-6f7a-476a-b0c8-46504dbc289f",
   "metadata": {},
   "outputs": [
    {
     "name": "stdout",
     "output_type": "stream",
     "text": [
      "Collecting package metadata (current_repodata.json): done\n",
      "Solving environment: done\n",
      "\n",
      "## Package Plan ##\n",
      "\n",
      "  environment location: /opt/conda/envs/octopus\n",
      "\n",
      "  added / updated specs:\n",
      "    - cudatoolkit=10.1\n",
      "\n",
      "\n",
      "The following packages will be downloaded:\n",
      "\n",
      "    package                    |            build\n",
      "    ---------------------------|-----------------\n",
      "    cudatoolkit-10.1.243       |       h036e899_8       427.4 MB  nvidia\n",
      "    ------------------------------------------------------------\n",
      "                                           Total:       427.4 MB\n",
      "\n",
      "The following NEW packages will be INSTALLED:\n",
      "\n",
      "  cudatoolkit        nvidia/linux-64::cudatoolkit-10.1.243-h036e899_8\n",
      "\n",
      "\n",
      "\n",
      "Downloading and Extracting Packages\n",
      "cudatoolkit-10.1.243 | 427.4 MB  | ##################################### | 100% \n",
      "Preparing transaction: done\n",
      "Verifying transaction: done\n",
      "Executing transaction: / By downloading and using the CUDA Toolkit conda packages, you accept the terms and conditions of the CUDA End User License Agreement (EULA): https://docs.nvidia.com/cuda/eula/index.html\n",
      "\n",
      "done\n"
     ]
    }
   ],
   "source": [
    "!/opt/conda/bin/conda install -y cudatoolkit=10.1"
   ]
  },
  {
   "cell_type": "code",
   "execution_count": 14,
   "id": "cbb0565f-ddf8-4999-a77f-ef078348c463",
   "metadata": {},
   "outputs": [
    {
     "name": "stdout",
     "output_type": "stream",
     "text": [
      "Get:1 http://security.ubuntu.com/ubuntu focal-security InRelease [114 kB]\n",
      "Hit:2 http://archive.ubuntu.com/ubuntu focal InRelease                         \n",
      "Get:3 http://archive.ubuntu.com/ubuntu focal-updates InRelease [114 kB]        \n",
      "Ign:4 https://developer.download.nvidia.com/compute/cuda/repos/ubuntu2004/x86_64  InRelease\n",
      "Ign:5 https://developer.download.nvidia.com/compute/machine-learning/repos/ubuntu2004/x86_64  InRelease\n",
      "Hit:6 https://developer.download.nvidia.com/compute/cuda/repos/ubuntu2004/x86_64  Release\n",
      "Hit:7 https://developer.download.nvidia.com/compute/machine-learning/repos/ubuntu2004/x86_64  Release\n",
      "Get:8 http://archive.ubuntu.com/ubuntu focal-backports InRelease [101 kB]\n",
      "Get:9 http://security.ubuntu.com/ubuntu focal-security/multiverse amd64 Packages [30.1 kB]\n",
      "Get:10 http://security.ubuntu.com/ubuntu focal-security/main amd64 Packages [1034 kB]\n",
      "Get:11 http://security.ubuntu.com/ubuntu focal-security/universe amd64 Packages [793 kB]\n",
      "Get:12 http://security.ubuntu.com/ubuntu focal-security/restricted amd64 Packages [488 kB]\n",
      "Get:15 http://archive.ubuntu.com/ubuntu focal-updates/multiverse amd64 Packages [33.4 kB]\n",
      "Get:16 http://archive.ubuntu.com/ubuntu focal-updates/universe amd64 Packages [1066 kB]\n",
      "Get:17 http://archive.ubuntu.com/ubuntu focal-updates/restricted amd64 Packages [535 kB]\n",
      "Get:18 http://archive.ubuntu.com/ubuntu focal-updates/main amd64 Packages [1471 kB]\n",
      "Get:19 http://archive.ubuntu.com/ubuntu focal-backports/universe amd64 Packages [6324 B]\n",
      "Fetched 5785 kB in 2s (2984 kB/s)   \n",
      "Reading package lists... Done\n",
      "Reading package lists... Done\n",
      "Building dependency tree       \n",
      "Reading state information... Done\n",
      "E: Unable to locate package libnvinfer6\n",
      "E: Unable to locate package libnvinfer-plugin6\n"
     ]
    }
   ],
   "source": [
    "!apt-get update && apt-get install -y --no-install-recommends libnvinfer6 \\\n",
    "    libnvinfer-dev \\\n",
    "    libnvinfer-plugin6"
   ]
  },
  {
   "cell_type": "code",
   "execution_count": 12,
   "id": "41569f72-015f-4c74-ae24-f6f5116026d2",
   "metadata": {},
   "outputs": [
    {
     "name": "stdout",
     "output_type": "stream",
     "text": [
      "-- The CXX compiler identification is GNU 9.3.0\n",
      "-- The CUDA compiler identification is NVIDIA 11.1.105\n",
      "-- Detecting CXX compiler ABI info\n",
      "-- Detecting CXX compiler ABI info - done\n",
      "-- Check for working CXX compiler: /usr/bin/c++ - skipped\n",
      "-- Detecting CXX compile features\n",
      "-- Detecting CXX compile features - done\n",
      "-- Detecting CUDA compiler ABI info\n",
      "-- Detecting CUDA compiler ABI info - done\n",
      "-- Check for working CUDA compiler: /usr/local/cuda/bin/nvcc - skipped\n",
      "-- Detecting CUDA compile features\n",
      "-- Detecting CUDA compile features - done\n",
      "-- Found OpenGL: /usr/lib/x86_64-linux-gnu/libOpenGL.so  found components: OpenGL EGL \n",
      "2021-08-26 15:18:16.072668: W tensorflow/stream_executor/platform/default/dso_loader.cc:55] Could not load dynamic library 'libnvinfer.so.6'; dlerror: libnvinfer.so.6: cannot open shared object file: No such file or directory; LD_LIBRARY_PATH: /usr/local/nvidia/lib:/usr/local/nvidia/lib64\n",
      "2021-08-26 15:18:16.072816: W tensorflow/stream_executor/platform/default/dso_loader.cc:55] Could not load dynamic library 'libnvinfer_plugin.so.6'; dlerror: libnvinfer_plugin.so.6: cannot open shared object file: No such file or directory; LD_LIBRARY_PATH: /usr/local/nvidia/lib:/usr/local/nvidia/lib64\n",
      "2021-08-26 15:18:16.072842: W tensorflow/compiler/tf2tensorrt/utils/py_utils.cc:30] Cannot dlopen some TensorRT libraries. If you would like to use Nvidia GPU with TensorRT, please make sure the missing libraries mentioned above are installed properly.\n",
      "2021-08-26 15:18:19.191801: W tensorflow/stream_executor/platform/default/dso_loader.cc:55] Could not load dynamic library 'libnvinfer.so.6'; dlerror: libnvinfer.so.6: cannot open shared object file: No such file or directory; LD_LIBRARY_PATH: /usr/local/nvidia/lib:/usr/local/nvidia/lib64\n",
      "2021-08-26 15:18:19.191895: W tensorflow/stream_executor/platform/default/dso_loader.cc:55] Could not load dynamic library 'libnvinfer_plugin.so.6'; dlerror: libnvinfer_plugin.so.6: cannot open shared object file: No such file or directory; LD_LIBRARY_PATH: /usr/local/nvidia/lib:/usr/local/nvidia/lib64\n",
      "2021-08-26 15:18:19.191914: W tensorflow/compiler/tf2tensorrt/utils/py_utils.cc:30] Cannot dlopen some TensorRT libraries. If you would like to use Nvidia GPU with TensorRT, please make sure the missing libraries mentioned above are installed properly.\n",
      "2021-08-26 15:18:20.816722: W tensorflow/stream_executor/platform/default/dso_loader.cc:55] Could not load dynamic library 'libnvinfer.so.6'; dlerror: libnvinfer.so.6: cannot open shared object file: No such file or directory; LD_LIBRARY_PATH: /usr/local/nvidia/lib:/usr/local/nvidia/lib64\n",
      "2021-08-26 15:18:20.816829: W tensorflow/stream_executor/platform/default/dso_loader.cc:55] Could not load dynamic library 'libnvinfer_plugin.so.6'; dlerror: libnvinfer_plugin.so.6: cannot open shared object file: No such file or directory; LD_LIBRARY_PATH: /usr/local/nvidia/lib:/usr/local/nvidia/lib64\n",
      "2021-08-26 15:18:20.816846: W tensorflow/compiler/tf2tensorrt/utils/py_utils.cc:30] Cannot dlopen some TensorRT libraries. If you would like to use Nvidia GPU with TensorRT, please make sure the missing libraries mentioned above are installed properly.\n",
      "-- Configuring done\n",
      "\u001b[33mCMake Warning (dev) in CMakeLists.txt:\n",
      "  Policy CMP0104 is not set: CMAKE_CUDA_ARCHITECTURES now detected for NVCC,\n",
      "  empty CUDA_ARCHITECTURES not allowed.  Run \"cmake --help-policy CMP0104\"\n",
      "  for policy details.  Use the cmake_policy command to set the policy and\n",
      "  suppress this warning.\n",
      "\n",
      "  CUDA_ARCHITECTURES is empty for target \"rasterise\".\n",
      "This warning is for project developers.  Use -Wno-dev to suppress it.\n",
      "\u001b[0m\n",
      "-- Generating done\n",
      "-- Build files have been written to: /proj/octopus/dirt/build\n"
     ]
    }
   ],
   "source": [
    "!cd dirt;rm -rf build; mkdir build; cd build ; cmake -DOpenGL_GL_PREFERENCE=GLVND -DCMAKE_CUDA_FLAGS='-DNDEBUG' ../csrc"
   ]
  },
  {
   "cell_type": "code",
   "execution_count": 15,
   "id": "4e1fa73f-f230-436a-bff3-9621c65b9191",
   "metadata": {},
   "outputs": [
    {
     "name": "stdout",
     "output_type": "stream",
     "text": [
      "[ 16%] \u001b[32mBuilding CUDA object CMakeFiles/rasterise.dir/rasterise_egl.cu.o\u001b[0m\n",
      "[ 33%] \u001b[32mBuilding CXX object CMakeFiles/rasterise.dir/rasterise_grad_egl.cpp.o\u001b[0m\n",
      "[ 50%] \u001b[32mBuilding CXX object CMakeFiles/rasterise.dir/rasterise_egl.cpp.o\u001b[0m\n",
      "[ 66%] \u001b[32mBuilding CUDA object CMakeFiles/rasterise.dir/rasterise_grad_egl.cu.o\u001b[0m\n",
      "In file included from \u001b[01m\u001b[K/proj/octopus/dirt/csrc/rasterise_grad_egl.cpp:22\u001b[m\u001b[K:\n",
      "\u001b[01m\u001b[K/opt/conda/envs/octopus/lib/python3.7/site-packages/tensorflow_core/include/unsupported/Eigen/CXX11/src/Tensor/TensorDeviceCuda.h:3:2:\u001b[m\u001b[K \u001b[01;35m\u001b[Kwarning: \u001b[m\u001b[K#warning \"Deprecated header file, please either include the main Eigen/CXX11/Tensor header or the respective TensorDeviceGpu.h file\" [\u001b[01;35m\u001b[K-Wcpp\u001b[m\u001b[K]\n",
      "    3 | #\u001b[01;35m\u001b[Kwarning\u001b[m\u001b[K \"Deprecated header file, please either include the main Eigen/CXX11/Tensor header or the respective TensorDeviceGpu.h file\"\n",
      "      |  \u001b[01;35m\u001b[K^~~~~~~\u001b[m\u001b[K\n",
      "In file included from \u001b[01m\u001b[K/proj/octopus/dirt/csrc/rasterise_egl.cpp:24\u001b[m\u001b[K:\n",
      "\u001b[01m\u001b[K/opt/conda/envs/octopus/lib/python3.7/site-packages/tensorflow_core/include/unsupported/Eigen/CXX11/src/Tensor/TensorDeviceCuda.h:3:2:\u001b[m\u001b[K \u001b[01;35m\u001b[Kwarning: \u001b[m\u001b[K#warning \"Deprecated header file, please either include the main Eigen/CXX11/Tensor header or the respective TensorDeviceGpu.h file\" [\u001b[01;35m\u001b[K-Wcpp\u001b[m\u001b[K]\n",
      "    3 | #\u001b[01;35m\u001b[Kwarning\u001b[m\u001b[K \"Deprecated header file, please either include the main Eigen/CXX11/Tensor header or the respective TensorDeviceGpu.h file\"\n",
      "      |  \u001b[01;35m\u001b[K^~~~~~~\u001b[m\u001b[K\n",
      "/opt/conda/envs/octopus/lib/python3.7/site-packages/tensorflow_core/include/absl/strings/string_view.h(495): warning: expression has no effect\n",
      "\n",
      "/opt/conda/envs/octopus/lib/python3.7/site-packages/tensorflow_core/include/absl/strings/string_view.h(495): warning: expression has no effect\n",
      "\n",
      "/opt/conda/envs/octopus/lib/python3.7/site-packages/tensorflow_core/include/tensorflow/core/platform/env.h(356): warning: overloaded virtual function \"tensorflow::Env::RegisterFileSystem\" is only partially overridden in class \"tensorflow::EnvWrapper\"\n",
      "\n",
      "/opt/conda/envs/octopus/lib/python3.7/site-packages/tensorflow_core/include/tensorflow/core/platform/env.h(356): warning: overloaded virtual function \"tensorflow::Env::RegisterFileSystem\" is only partially overridden in class \"tensorflow::EnvWrapper\"\n",
      "\n",
      "/opt/conda/envs/octopus/lib/python3.7/site-packages/tensorflow_core/include/absl/types/optional.h(425): warning: expression has no effect\n",
      "          detected during instantiation of \"const T &absl::optional<T>::operator*() const & [with T=stream_executor::dnn::AlgorithmDesc]\" \n",
      "/opt/conda/envs/octopus/lib/python3.7/site-packages/tensorflow_core/include/tensorflow/stream_executor/dnn.h(804): here\n",
      "\n",
      "/opt/conda/envs/octopus/lib/python3.7/site-packages/tensorflow_core/include/absl/types/optional.h(425): warning: expression has no effect\n",
      "          detected during:\n",
      "            instantiation of \"const T &absl::optional<T>::operator*() const & [with T=size_t]\" \n",
      "(602): here\n",
      "            instantiation of \"auto absl::operator==(const absl::optional<T> &, const absl::optional<U> &)->__nv_bool [with T=size_t, U=size_t]\" \n",
      "/opt/conda/envs/octopus/lib/python3.7/site-packages/tensorflow_core/include/tensorflow/stream_executor/dnn.h(858): here\n",
      "\n",
      "/opt/conda/envs/octopus/lib/python3.7/site-packages/tensorflow_core/include/absl/types/optional.h(425): warning: expression has no effect\n",
      "          detected during instantiation of \"const T &absl::optional<T>::operator*() const & [with T=stream_executor::dnn::AlgorithmDesc]\" \n",
      "/opt/conda/envs/octopus/lib/python3.7/site-packages/tensorflow_core/include/tensorflow/stream_executor/dnn.h(804): here\n",
      "\n",
      "/opt/conda/envs/octopus/lib/python3.7/site-packages/tensorflow_core/include/absl/types/optional.h(425): warning: expression has no effect\n",
      "          detected during:\n",
      "            instantiation of \"const T &absl::optional<T>::operator*() const & [with T=size_t]\" \n",
      "(602): here\n",
      "            instantiation of \"auto absl::operator==(const absl::optional<T> &, const absl::optional<U> &)->__nv_bool [with T=size_t, U=size_t]\" \n",
      "/opt/conda/envs/octopus/lib/python3.7/site-packages/tensorflow_core/include/tensorflow/stream_executor/dnn.h(858): here\n",
      "\n",
      "\u001b[01m\u001b[K/proj/octopus/dirt/csrc/rasterise_grad_egl.cpp:\u001b[m\u001b[K In lambda function:\n",
      "\u001b[01m\u001b[K/proj/octopus/dirt/csrc/rasterise_grad_egl.cpp:49:90:\u001b[m\u001b[K \u001b[01;35m\u001b[Kwarning: \u001b[m\u001b[Kignoring return value of ‘\u001b[01m\u001b[Ktensorflow::Status tensorflow::shape_inference::InferenceContext::ReplaceDim(tensorflow::shape_inference::ShapeHandle, tensorflow::int64, tensorflow::shape_inference::DimensionHandle, tensorflow::shape_inference::ShapeHandle*)\u001b[m\u001b[K’, declared with attribute warn_unused_result [\u001b[01;35m\u001b[K-Wunused-result\u001b[m\u001b[K]\n",
      "   49 |         c->ReplaceDim(c->input(0), 2, c->Dim(c->input(2), 3), &grad_vertex_colours_shape)\u001b[01;35m\u001b[K;\u001b[m\u001b[K  // i.e. vertex-colors has same shape as vertices, but with final dimension replaced by channel count\n",
      "      |                                                                                          \u001b[01;35m\u001b[K^\u001b[m\u001b[K\n",
      "In file included from \u001b[01m\u001b[K/proj/octopus/dirt/csrc/rasterise_grad_egl.cpp:13\u001b[m\u001b[K:\n",
      "\u001b[01m\u001b[K/opt/conda/envs/octopus/lib/python3.7/site-packages/tensorflow_core/include/tensorflow/core/framework/shape_inference.h:418:10:\u001b[m\u001b[K \u001b[01;36m\u001b[Knote: \u001b[m\u001b[Kdeclared here\n",
      "  418 |   Status \u001b[01;36m\u001b[KReplaceDim\u001b[m\u001b[K(ShapeHandle s, int64 dim_index, DimensionHandle new_dim,\n",
      "      |          \u001b[01;36m\u001b[K^~~~~~~~~~\u001b[m\u001b[K\n",
      "[ 83%] \u001b[32mBuilding CXX object CMakeFiles/rasterise.dir/shaders.cpp.o\u001b[0m\n",
      "/opt/conda/envs/octopus/lib/python3.7/site-packages/tensorflow_core/include/absl/strings/string_view.h(495): warning: expression has no effect\n",
      "\n",
      "/opt/conda/envs/octopus/lib/python3.7/site-packages/tensorflow_core/include/absl/strings/string_view.h(495): warning: expression has no effect\n",
      "\n",
      "/opt/conda/envs/octopus/lib/python3.7/site-packages/tensorflow_core/include/tensorflow/core/platform/env.h(356): warning: overloaded virtual function \"tensorflow::Env::RegisterFileSystem\" is only partially overridden in class \"tensorflow::EnvWrapper\"\n",
      "\n",
      "/opt/conda/envs/octopus/lib/python3.7/site-packages/tensorflow_core/include/tensorflow/core/platform/env.h(356): warning: overloaded virtual function \"tensorflow::Env::RegisterFileSystem\" is only partially overridden in class \"tensorflow::EnvWrapper\"\n",
      "\n",
      "/opt/conda/envs/octopus/lib/python3.7/site-packages/tensorflow_core/include/absl/types/optional.h(425): warning: expression has no effect\n",
      "          detected during instantiation of \"const T &absl::optional<T>::operator*() const & [with T=stream_executor::dnn::AlgorithmDesc]\" \n",
      "/opt/conda/envs/octopus/lib/python3.7/site-packages/tensorflow_core/include/tensorflow/stream_executor/dnn.h(804): here\n",
      "\n",
      "/opt/conda/envs/octopus/lib/python3.7/site-packages/tensorflow_core/include/absl/types/optional.h(425): warning: expression has no effect\n",
      "          detected during:\n",
      "            instantiation of \"const T &absl::optional<T>::operator*() const & [with T=size_t]\" \n",
      "(602): here\n",
      "            instantiation of \"auto absl::operator==(const absl::optional<T> &, const absl::optional<U> &)->bool [with T=size_t, U=size_t]\" \n",
      "/opt/conda/envs/octopus/lib/python3.7/site-packages/tensorflow_core/include/tensorflow/stream_executor/dnn.h(858): here\n",
      "\n",
      "/opt/conda/envs/octopus/lib/python3.7/site-packages/tensorflow_core/include/absl/types/optional.h(425): warning: expression has no effect\n",
      "          detected during instantiation of \"const T &absl::optional<T>::operator*() const & [with T=stream_executor::dnn::AlgorithmDesc]\" \n",
      "/opt/conda/envs/octopus/lib/python3.7/site-packages/tensorflow_core/include/tensorflow/stream_executor/dnn.h(804): here\n",
      "\n",
      "/opt/conda/envs/octopus/lib/python3.7/site-packages/tensorflow_core/include/absl/types/optional.h(425): warning: expression has no effect\n",
      "          detected during:\n",
      "            instantiation of \"const T &absl::optional<T>::operator*() const & [with T=size_t]\" \n",
      "(602): here\n",
      "            instantiation of \"auto absl::operator==(const absl::optional<T> &, const absl::optional<U> &)->bool [with T=size_t, U=size_t]\" \n",
      "/opt/conda/envs/octopus/lib/python3.7/site-packages/tensorflow_core/include/tensorflow/stream_executor/dnn.h(858): here\n",
      "\n",
      "[100%] \u001b[32m\u001b[1mLinking CXX shared library /proj/octopus/dirt/dirt/librasterise.so\u001b[0m\n",
      "[100%] Built target rasterise\n"
     ]
    }
   ],
   "source": [
    "!cd dirt/build; make -j4"
   ]
  },
  {
   "cell_type": "code",
   "execution_count": 6,
   "id": "e5e8f956-8e62-4ff5-9ee2-352a72a27998",
   "metadata": {},
   "outputs": [
    {
     "name": "stdout",
     "output_type": "stream",
     "text": [
      "\tlinux-vdso.so.1 (0x00007ffd69fb3000)\n",
      "\tlibEGL.so.1 => /usr/lib/x86_64-linux-gnu/libEGL.so.1 (0x00007f0f19497000)\n",
      "\tlibOpenGL.so.0 => /usr/lib/x86_64-linux-gnu/libOpenGL.so.0 (0x00007f0f1946b000)\n",
      "\tlibtensorflow_framework.so.2 => not found\n",
      "\tlibrt.so.1 => /usr/lib/x86_64-linux-gnu/librt.so.1 (0x00007f0f19460000)\n",
      "\tlibpthread.so.0 => /usr/lib/x86_64-linux-gnu/libpthread.so.0 (0x00007f0f1943d000)\n",
      "\tlibdl.so.2 => /usr/lib/x86_64-linux-gnu/libdl.so.2 (0x00007f0f19437000)\n",
      "\tlibstdc++.so.6 => /usr/lib/x86_64-linux-gnu/libstdc++.so.6 (0x00007f0f19253000)\n",
      "\tlibm.so.6 => /usr/lib/x86_64-linux-gnu/libm.so.6 (0x00007f0f19104000)\n",
      "\tlibgcc_s.so.1 => /usr/lib/x86_64-linux-gnu/libgcc_s.so.1 (0x00007f0f190e9000)\n",
      "\tlibc.so.6 => /usr/lib/x86_64-linux-gnu/libc.so.6 (0x00007f0f18ef7000)\n",
      "\t/lib64/ld-linux-x86-64.so.2 (0x00007f0f195c9000)\n",
      "\tlibGLdispatch.so.0 => /usr/lib/x86_64-linux-gnu/libGLdispatch.so.0 (0x00007f0f18e3f000)\n"
     ]
    }
   ],
   "source": [
    "!cd dirt; ldd dirt/librasterise.so; cp dirt/librasterise.so librasterise.so; chmod -R 777 librasterise.so"
   ]
  },
  {
   "cell_type": "code",
   "execution_count": 7,
   "id": "d3099e2b-f603-48ee-ba7b-d927ac61d3b4",
   "metadata": {},
   "outputs": [
    {
     "name": "stdout",
     "output_type": "stream",
     "text": [
      "Obtaining file:///proj/octopus/dirt\n",
      "Requirement already satisfied: tensorflow-gpu>=1.6 in /opt/conda/envs/octopus/lib/python3.7/site-packages (from dirt==0.3.0) (2.1.0)\n",
      "Requirement already satisfied: numpy in /opt/conda/envs/octopus/lib/python3.7/site-packages (from dirt==0.3.0) (1.21.1)\n",
      "Requirement already satisfied: wheel>=0.26 in /opt/conda/envs/octopus/lib/python3.7/site-packages (from tensorflow-gpu>=1.6->dirt==0.3.0) (0.37.0)\n",
      "Requirement already satisfied: scipy==1.4.1 in /opt/conda/envs/octopus/lib/python3.7/site-packages (from tensorflow-gpu>=1.6->dirt==0.3.0) (1.4.1)\n",
      "Requirement already satisfied: tensorflow-estimator<2.2.0,>=2.1.0rc0 in /opt/conda/envs/octopus/lib/python3.7/site-packages (from tensorflow-gpu>=1.6->dirt==0.3.0) (2.1.0)\n",
      "Requirement already satisfied: gast==0.2.2 in /opt/conda/envs/octopus/lib/python3.7/site-packages (from tensorflow-gpu>=1.6->dirt==0.3.0) (0.2.2)\n",
      "Requirement already satisfied: protobuf>=3.8.0 in /opt/conda/envs/octopus/lib/python3.7/site-packages (from tensorflow-gpu>=1.6->dirt==0.3.0) (3.17.3)\n",
      "Requirement already satisfied: tensorboard<2.2.0,>=2.1.0 in /opt/conda/envs/octopus/lib/python3.7/site-packages (from tensorflow-gpu>=1.6->dirt==0.3.0) (2.1.1)\n",
      "Requirement already satisfied: wrapt>=1.11.1 in /opt/conda/envs/octopus/lib/python3.7/site-packages (from tensorflow-gpu>=1.6->dirt==0.3.0) (1.12.1)\n",
      "Requirement already satisfied: astor>=0.6.0 in /opt/conda/envs/octopus/lib/python3.7/site-packages (from tensorflow-gpu>=1.6->dirt==0.3.0) (0.8.1)\n",
      "Requirement already satisfied: keras-preprocessing>=1.1.0 in /opt/conda/envs/octopus/lib/python3.7/site-packages (from tensorflow-gpu>=1.6->dirt==0.3.0) (1.1.2)\n",
      "Requirement already satisfied: google-pasta>=0.1.6 in /opt/conda/envs/octopus/lib/python3.7/site-packages (from tensorflow-gpu>=1.6->dirt==0.3.0) (0.2.0)\n",
      "Requirement already satisfied: keras-applications>=1.0.8 in /opt/conda/envs/octopus/lib/python3.7/site-packages (from tensorflow-gpu>=1.6->dirt==0.3.0) (1.0.8)\n",
      "Requirement already satisfied: termcolor>=1.1.0 in /opt/conda/envs/octopus/lib/python3.7/site-packages (from tensorflow-gpu>=1.6->dirt==0.3.0) (1.1.0)\n",
      "Requirement already satisfied: absl-py>=0.7.0 in /opt/conda/envs/octopus/lib/python3.7/site-packages (from tensorflow-gpu>=1.6->dirt==0.3.0) (0.13.0)\n",
      "Requirement already satisfied: six>=1.12.0 in /opt/conda/envs/octopus/lib/python3.7/site-packages (from tensorflow-gpu>=1.6->dirt==0.3.0) (1.16.0)\n",
      "Requirement already satisfied: grpcio>=1.8.6 in /opt/conda/envs/octopus/lib/python3.7/site-packages (from tensorflow-gpu>=1.6->dirt==0.3.0) (1.39.0)\n",
      "Requirement already satisfied: opt-einsum>=2.3.2 in /opt/conda/envs/octopus/lib/python3.7/site-packages (from tensorflow-gpu>=1.6->dirt==0.3.0) (3.3.0)\n",
      "Requirement already satisfied: h5py in /opt/conda/envs/octopus/lib/python3.7/site-packages (from keras-applications>=1.0.8->tensorflow-gpu>=1.6->dirt==0.3.0) (3.3.0)\n",
      "Requirement already satisfied: requests<3,>=2.21.0 in /opt/conda/envs/octopus/lib/python3.7/site-packages (from tensorboard<2.2.0,>=2.1.0->tensorflow-gpu>=1.6->dirt==0.3.0) (2.26.0)\n",
      "Requirement already satisfied: werkzeug>=0.11.15 in /opt/conda/envs/octopus/lib/python3.7/site-packages (from tensorboard<2.2.0,>=2.1.0->tensorflow-gpu>=1.6->dirt==0.3.0) (2.0.1)\n",
      "Requirement already satisfied: google-auth<2,>=1.6.3 in /opt/conda/envs/octopus/lib/python3.7/site-packages (from tensorboard<2.2.0,>=2.1.0->tensorflow-gpu>=1.6->dirt==0.3.0) (1.34.0)\n",
      "Requirement already satisfied: markdown>=2.6.8 in /opt/conda/envs/octopus/lib/python3.7/site-packages (from tensorboard<2.2.0,>=2.1.0->tensorflow-gpu>=1.6->dirt==0.3.0) (3.3.4)\n",
      "Requirement already satisfied: google-auth-oauthlib<0.5,>=0.4.1 in /opt/conda/envs/octopus/lib/python3.7/site-packages (from tensorboard<2.2.0,>=2.1.0->tensorflow-gpu>=1.6->dirt==0.3.0) (0.4.5)\n",
      "Requirement already satisfied: setuptools>=41.0.0 in /opt/conda/envs/octopus/lib/python3.7/site-packages (from tensorboard<2.2.0,>=2.1.0->tensorflow-gpu>=1.6->dirt==0.3.0) (52.0.0.post20210125)\n",
      "Requirement already satisfied: cachetools<5.0,>=2.0.0 in /opt/conda/envs/octopus/lib/python3.7/site-packages (from google-auth<2,>=1.6.3->tensorboard<2.2.0,>=2.1.0->tensorflow-gpu>=1.6->dirt==0.3.0) (4.2.2)\n",
      "Requirement already satisfied: pyasn1-modules>=0.2.1 in /opt/conda/envs/octopus/lib/python3.7/site-packages (from google-auth<2,>=1.6.3->tensorboard<2.2.0,>=2.1.0->tensorflow-gpu>=1.6->dirt==0.3.0) (0.2.8)\n",
      "Requirement already satisfied: rsa<5,>=3.1.4 in /opt/conda/envs/octopus/lib/python3.7/site-packages (from google-auth<2,>=1.6.3->tensorboard<2.2.0,>=2.1.0->tensorflow-gpu>=1.6->dirt==0.3.0) (4.7.2)\n",
      "Requirement already satisfied: requests-oauthlib>=0.7.0 in /opt/conda/envs/octopus/lib/python3.7/site-packages (from google-auth-oauthlib<0.5,>=0.4.1->tensorboard<2.2.0,>=2.1.0->tensorflow-gpu>=1.6->dirt==0.3.0) (1.3.0)\n",
      "Requirement already satisfied: importlib-metadata in /opt/conda/envs/octopus/lib/python3.7/site-packages (from markdown>=2.6.8->tensorboard<2.2.0,>=2.1.0->tensorflow-gpu>=1.6->dirt==0.3.0) (4.6.4)\n",
      "Requirement already satisfied: pyasn1<0.5.0,>=0.4.6 in /opt/conda/envs/octopus/lib/python3.7/site-packages (from pyasn1-modules>=0.2.1->google-auth<2,>=1.6.3->tensorboard<2.2.0,>=2.1.0->tensorflow-gpu>=1.6->dirt==0.3.0) (0.4.8)\n",
      "Requirement already satisfied: idna<4,>=2.5 in /opt/conda/envs/octopus/lib/python3.7/site-packages (from requests<3,>=2.21.0->tensorboard<2.2.0,>=2.1.0->tensorflow-gpu>=1.6->dirt==0.3.0) (3.2)\n",
      "Requirement already satisfied: certifi>=2017.4.17 in /opt/conda/envs/octopus/lib/python3.7/site-packages (from requests<3,>=2.21.0->tensorboard<2.2.0,>=2.1.0->tensorflow-gpu>=1.6->dirt==0.3.0) (2021.5.30)\n",
      "Requirement already satisfied: charset-normalizer~=2.0.0 in /opt/conda/envs/octopus/lib/python3.7/site-packages (from requests<3,>=2.21.0->tensorboard<2.2.0,>=2.1.0->tensorflow-gpu>=1.6->dirt==0.3.0) (2.0.4)\n",
      "Requirement already satisfied: urllib3<1.27,>=1.21.1 in /opt/conda/envs/octopus/lib/python3.7/site-packages (from requests<3,>=2.21.0->tensorboard<2.2.0,>=2.1.0->tensorflow-gpu>=1.6->dirt==0.3.0) (1.26.6)\n",
      "Requirement already satisfied: oauthlib>=3.0.0 in /opt/conda/envs/octopus/lib/python3.7/site-packages (from requests-oauthlib>=0.7.0->google-auth-oauthlib<0.5,>=0.4.1->tensorboard<2.2.0,>=2.1.0->tensorflow-gpu>=1.6->dirt==0.3.0) (3.1.1)\n",
      "Requirement already satisfied: cached-property in /opt/conda/envs/octopus/lib/python3.7/site-packages (from h5py->keras-applications>=1.0.8->tensorflow-gpu>=1.6->dirt==0.3.0) (1.5.2)\n",
      "Requirement already satisfied: zipp>=0.5 in /opt/conda/envs/octopus/lib/python3.7/site-packages (from importlib-metadata->markdown>=2.6.8->tensorboard<2.2.0,>=2.1.0->tensorflow-gpu>=1.6->dirt==0.3.0) (3.5.0)\n",
      "Requirement already satisfied: typing-extensions>=3.6.4 in /opt/conda/envs/octopus/lib/python3.7/site-packages (from importlib-metadata->markdown>=2.6.8->tensorboard<2.2.0,>=2.1.0->tensorflow-gpu>=1.6->dirt==0.3.0) (3.10.0.0)\n",
      "Installing collected packages: dirt\n",
      "  Running setup.py develop for dirt\n",
      "Successfully installed dirt\n"
     ]
    }
   ],
   "source": [
    "!cd dirt; pip install -e ."
   ]
  },
  {
   "cell_type": "code",
   "execution_count": 2,
   "id": "43983685-845a-4a31-9d33-8216df7a5da3",
   "metadata": {},
   "outputs": [
    {
     "name": "stdout",
     "output_type": "stream",
     "text": [
      "2021-08-14 12:47:51.087076: W tensorflow/stream_executor/platform/default/dso_loader.cc:55] Could not load dynamic library 'libnvinfer.so.6'; dlerror: libnvinfer.so.6: cannot open shared object file: No such file or directory; LD_LIBRARY_PATH: /usr/local/nvidia/lib:/usr/local/nvidia/lib64\n",
      "2021-08-14 12:47:51.087166: W tensorflow/stream_executor/platform/default/dso_loader.cc:55] Could not load dynamic library 'libnvinfer_plugin.so.6'; dlerror: libnvinfer_plugin.so.6: cannot open shared object file: No such file or directory; LD_LIBRARY_PATH: /usr/local/nvidia/lib:/usr/local/nvidia/lib64\n",
      "2021-08-14 12:47:51.087183: W tensorflow/compiler/tf2tensorrt/utils/py_utils.cc:30] Cannot dlopen some TensorRT libraries. If you would like to use Nvidia GPU with TensorRT, please make sure the missing libraries mentioned above are installed properly.\n",
      "2021-08-14 12:47:51.676168: I tensorflow/stream_executor/platform/default/dso_loader.cc:44] Successfully opened dynamic library libcuda.so.1\n",
      "2021-08-14 12:47:51.698207: I tensorflow/stream_executor/cuda/cuda_gpu_executor.cc:981] successful NUMA node read from SysFS had negative value (-1), but there must be at least one NUMA node, so returning NUMA node zero\n",
      "2021-08-14 12:47:51.698802: I tensorflow/core/common_runtime/gpu/gpu_device.cc:1555] Found device 0 with properties: \n",
      "pciBusID: 0000:00:04.0 name: Tesla T4 computeCapability: 7.5\n",
      "coreClock: 1.59GHz coreCount: 40 deviceMemorySize: 14.75GiB deviceMemoryBandwidth: 298.08GiB/s\n",
      "2021-08-14 12:47:51.698929: W tensorflow/stream_executor/platform/default/dso_loader.cc:55] Could not load dynamic library 'libcudart.so.10.1'; dlerror: libcudart.so.10.1: cannot open shared object file: No such file or directory; LD_LIBRARY_PATH: /usr/local/nvidia/lib:/usr/local/nvidia/lib64\n",
      "2021-08-14 12:47:51.699015: W tensorflow/stream_executor/platform/default/dso_loader.cc:55] Could not load dynamic library 'libcublas.so.10'; dlerror: libcublas.so.10: cannot open shared object file: No such file or directory; LD_LIBRARY_PATH: /usr/local/nvidia/lib:/usr/local/nvidia/lib64\n",
      "2021-08-14 12:47:51.700158: I tensorflow/stream_executor/platform/default/dso_loader.cc:44] Successfully opened dynamic library libcufft.so.10\n",
      "2021-08-14 12:47:51.700489: I tensorflow/stream_executor/platform/default/dso_loader.cc:44] Successfully opened dynamic library libcurand.so.10\n",
      "2021-08-14 12:47:51.700589: W tensorflow/stream_executor/platform/default/dso_loader.cc:55] Could not load dynamic library 'libcusolver.so.10'; dlerror: libcusolver.so.10: cannot open shared object file: No such file or directory; LD_LIBRARY_PATH: /usr/local/nvidia/lib:/usr/local/nvidia/lib64\n",
      "2021-08-14 12:47:51.700691: W tensorflow/stream_executor/platform/default/dso_loader.cc:55] Could not load dynamic library 'libcusparse.so.10'; dlerror: libcusparse.so.10: cannot open shared object file: No such file or directory; LD_LIBRARY_PATH: /usr/local/nvidia/lib:/usr/local/nvidia/lib64\n",
      "2021-08-14 12:47:51.700783: W tensorflow/stream_executor/platform/default/dso_loader.cc:55] Could not load dynamic library 'libcudnn.so.7'; dlerror: libcudnn.so.7: cannot open shared object file: No such file or directory; LD_LIBRARY_PATH: /usr/local/nvidia/lib:/usr/local/nvidia/lib64\n",
      "2021-08-14 12:47:51.700802: W tensorflow/core/common_runtime/gpu/gpu_device.cc:1592] Cannot dlopen some GPU libraries. Please make sure the missing libraries mentioned above are installed properly if you would like to use GPU. Follow the guide at https://www.tensorflow.org/install/gpu for how to download and setup the required libraries for your platform.\n",
      "Skipping registering GPU devices...\n",
      "2021-08-14 12:47:51.701101: I tensorflow/core/platform/cpu_feature_guard.cc:142] Your CPU supports instructions that this TensorFlow binary was not compiled to use: AVX2 FMA\n",
      "2021-08-14 12:47:51.707479: I tensorflow/core/platform/profile_utils/cpu_utils.cc:94] CPU Frequency: 2299995000 Hz\n",
      "2021-08-14 12:47:51.707973: I tensorflow/compiler/xla/service/service.cc:168] XLA service 0x555d9b1e61d0 initialized for platform Host (this does not guarantee that XLA will be used). Devices:\n",
      "2021-08-14 12:47:51.708006: I tensorflow/compiler/xla/service/service.cc:176]   StreamExecutor device (0): Host, Default Version\n",
      "2021-08-14 12:47:51.877101: I tensorflow/stream_executor/cuda/cuda_gpu_executor.cc:981] successful NUMA node read from SysFS had negative value (-1), but there must be at least one NUMA node, so returning NUMA node zero\n",
      "2021-08-14 12:47:51.877807: I tensorflow/compiler/xla/service/service.cc:168] XLA service 0x555d9b26bee0 initialized for platform CUDA (this does not guarantee that XLA will be used). Devices:\n",
      "2021-08-14 12:47:51.877848: I tensorflow/compiler/xla/service/service.cc:176]   StreamExecutor device (0): Tesla T4, Compute Capability 7.5\n",
      "2021-08-14 12:47:51.878030: I tensorflow/core/common_runtime/gpu/gpu_device.cc:1096] Device interconnect StreamExecutor with strength 1 edge matrix:\n",
      "2021-08-14 12:47:51.878049: I tensorflow/core/common_runtime/gpu/gpu_device.cc:1102]      \n",
      "Traceback (most recent call last):\n",
      "  File \"tests/square_test.py\", line 61, in <module>\n",
      "    main()\n",
      "  File \"tests/square_test.py\", line 52, in main\n",
      "    dirt_pixels = get_dirt_pixels().numpy()\n",
      "  File \"tests/square_test.py\", line 35, in get_dirt_pixels\n",
      "    height=canvas_height, width=canvas_width, channels=1\n",
      "  File \"/proj/octopus/dirt/dirt/rasterise_ops.py\", line 48, in rasterise\n",
      "    return rasterise_batch(background[None], vertices[None], vertex_colors[None], faces[None], height, width, channels, name)[0]\n",
      "  File \"/proj/octopus/dirt/dirt/rasterise_ops.py\", line 84, in rasterise_batch\n",
      "    name=scope\n",
      "  File \"<string>\", line 66, in rasterise\n",
      "  File \"/opt/conda/envs/octopus/lib/python3.7/site-packages/tensorflow_core/python/framework/ops.py\", line 6606, in raise_from_not_ok_status\n",
      "    six.raise_from(core._status_to_exception(e.code, message), None)\n",
      "  File \"<string>\", line 3, in raise_from\n",
      "tensorflow.python.framework.errors_impl.NotFoundError: Could not find valid device for node.\n",
      "Node:{{node Rasterise}}\n",
      "All kernels registered for op Rasterise :\n",
      "  device='GPU'\n",
      " [Op:Rasterise] name: Rasterise/RasteriseBatch/\n"
     ]
    }
   ],
   "source": [
    "!cd dirt; python3 tests/square_test.py "
   ]
  },
  {
   "cell_type": "code",
   "execution_count": 10,
   "id": "8efe0f93-31b9-43c9-bf5a-fd72259f1eb1",
   "metadata": {},
   "outputs": [
    {
     "name": "stdout",
     "output_type": "stream",
     "text": [
      "Sat Aug 14 12:46:54 2021       \n",
      "+-----------------------------------------------------------------------------+\n",
      "| NVIDIA-SMI 460.73.01    Driver Version: 460.73.01    CUDA Version: 11.2     |\n",
      "|-------------------------------+----------------------+----------------------+\n",
      "| GPU  Name        Persistence-M| Bus-Id        Disp.A | Volatile Uncorr. ECC |\n",
      "| Fan  Temp  Perf  Pwr:Usage/Cap|         Memory-Usage | GPU-Util  Compute M. |\n",
      "|                               |                      |               MIG M. |\n",
      "|===============================+======================+======================|\n",
      "|   0  Tesla T4            On   | 00000000:00:04.0 Off |                    0 |\n",
      "| N/A   55C    P8    17W /  70W |      0MiB / 15109MiB |      0%      Default |\n",
      "|                               |                      |                  N/A |\n",
      "+-------------------------------+----------------------+----------------------+\n",
      "                                                                               \n",
      "+-----------------------------------------------------------------------------+\n",
      "| Processes:                                                                  |\n",
      "|  GPU   GI   CI        PID   Type   Process name                  GPU Memory |\n",
      "|        ID   ID                                                   Usage      |\n",
      "|=============================================================================|\n",
      "|  No running processes found                                                 |\n",
      "+-----------------------------------------------------------------------------+\n"
     ]
    }
   ],
   "source": [
    "!nvidia-smi"
   ]
  },
  {
   "cell_type": "raw",
   "id": "b12f4dd3-2fcc-4586-9638-c50fd552b8a6",
   "metadata": {},
   "source": []
  },
  {
   "cell_type": "code",
   "execution_count": 3,
   "id": "ffa800c6-51db-4fe3-8874-77e0a037ec62",
   "metadata": {},
   "outputs": [
    {
     "name": "stdout",
     "output_type": "stream",
     "text": [
      "nvcc: NVIDIA (R) Cuda compiler driver\n",
      "Copyright (c) 2005-2020 NVIDIA Corporation\n",
      "Built on Mon_Oct_12_20:09:46_PDT_2020\n",
      "Cuda compilation tools, release 11.1, V11.1.105\n",
      "Build cuda_11.1.TC455_06.29190527_0\n"
     ]
    }
   ],
   "source": [
    "!nvcc --version"
   ]
  },
  {
   "cell_type": "code",
   "execution_count": null,
   "id": "d098b4e8-0475-49a9-97ff-3a177592db3d",
   "metadata": {},
   "outputs": [],
   "source": []
  }
 ],
 "metadata": {
  "kernelspec": {
   "display_name": "Python [conda env:octopus]",
   "language": "python",
   "name": "conda-env-octopus-py"
  },
  "language_info": {
   "codemirror_mode": {
    "name": "ipython",
    "version": 3
   },
   "file_extension": ".py",
   "mimetype": "text/x-python",
   "name": "python",
   "nbconvert_exporter": "python",
   "pygments_lexer": "ipython3",
   "version": "3.7.11"
  }
 },
 "nbformat": 4,
 "nbformat_minor": 5
}
